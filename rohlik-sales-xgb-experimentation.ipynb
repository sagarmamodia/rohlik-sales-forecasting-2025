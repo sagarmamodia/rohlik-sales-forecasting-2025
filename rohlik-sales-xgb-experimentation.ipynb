{
 "cells": [
  {
   "cell_type": "code",
   "execution_count": 1,
   "id": "e4d315ab",
   "metadata": {
    "execution": {
     "iopub.execute_input": "2025-02-05T20:10:33.903456Z",
     "iopub.status.busy": "2025-02-05T20:10:33.903141Z",
     "iopub.status.idle": "2025-02-05T20:10:36.376004Z",
     "shell.execute_reply": "2025-02-05T20:10:36.375094Z"
    },
    "papermill": {
     "duration": 2.482824,
     "end_time": "2025-02-05T20:10:36.377555",
     "exception": false,
     "start_time": "2025-02-05T20:10:33.894731",
     "status": "completed"
    },
    "tags": []
   },
   "outputs": [],
   "source": [
    "import pandas as pd\n",
    "import numpy as np\n",
    "import matplotlib.pyplot as plt\n",
    "import seaborn as sns\n",
    "import os\n",
    "import sys\n",
    "from tabulate import tabulate\n",
    "import xgboost as xgb\n",
    "from sklearn.metrics import mean_absolute_error\n",
    "from sklearn.preprocessing import PowerTransformer\n",
    "# from sklearn.preprocessing import OrdinalEncoder, StandardScaler"
   ]
  },
  {
   "cell_type": "code",
   "execution_count": 2,
   "id": "b0bfc6b9",
   "metadata": {
    "execution": {
     "iopub.execute_input": "2025-02-05T20:10:36.390989Z",
     "iopub.status.busy": "2025-02-05T20:10:36.390554Z",
     "iopub.status.idle": "2025-02-05T20:10:36.394040Z",
     "shell.execute_reply": "2025-02-05T20:10:36.393234Z"
    },
    "papermill": {
     "duration": 0.011343,
     "end_time": "2025-02-05T20:10:36.395296",
     "exception": false,
     "start_time": "2025-02-05T20:10:36.383953",
     "status": "completed"
    },
    "tags": []
   },
   "outputs": [],
   "source": [
    "INPUT_DIR = '/kaggle/input/rohlik-sales-forecasting-challenge-v2'\n",
    "OUTPUT_DIR = '/kaggle/working'"
   ]
  },
  {
   "cell_type": "markdown",
   "id": "bd9406e9",
   "metadata": {
    "papermill": {
     "duration": 0.005386,
     "end_time": "2025-02-05T20:10:36.406406",
     "exception": false,
     "start_time": "2025-02-05T20:10:36.401020",
     "status": "completed"
    },
    "tags": []
   },
   "source": [
    "## 1. Data Ingestion"
   ]
  },
  {
   "cell_type": "code",
   "execution_count": 3,
   "id": "99553054",
   "metadata": {
    "execution": {
     "iopub.execute_input": "2025-02-05T20:10:36.418818Z",
     "iopub.status.busy": "2025-02-05T20:10:36.418493Z",
     "iopub.status.idle": "2025-02-05T20:10:43.282898Z",
     "shell.execute_reply": "2025-02-05T20:10:43.281937Z"
    },
    "papermill": {
     "duration": 6.872432,
     "end_time": "2025-02-05T20:10:43.284605",
     "exception": false,
     "start_time": "2025-02-05T20:10:36.412173",
     "status": "completed"
    },
    "tags": []
   },
   "outputs": [],
   "source": [
    "df_sales = pd.read_csv(os.path.join(INPUT_DIR, \"sales_train.csv\"))\n",
    "df_cal = pd.read_csv(os.path.join(INPUT_DIR, \"calendar.csv\"))\n",
    "df_inv = pd.read_csv(os.path.join(INPUT_DIR, \"inventory.csv\"))\n",
    "df_test = pd.read_csv(os.path.join(INPUT_DIR, \"sales_test.csv\"))\n",
    "\n",
    "df_cal_enriched_2025 = pd.read_csv('/kaggle/input/extended-calendar-dataset-for-rohlik-challenge/calendar_enriched_2025-01-05.csv')"
   ]
  },
  {
   "cell_type": "markdown",
   "id": "322e786d",
   "metadata": {
    "papermill": {
     "duration": 0.005403,
     "end_time": "2025-02-05T20:10:43.296261",
     "exception": false,
     "start_time": "2025-02-05T20:10:43.290858",
     "status": "completed"
    },
    "tags": []
   },
   "source": [
    "## 2. Data Preparation"
   ]
  },
  {
   "cell_type": "code",
   "execution_count": 4,
   "id": "38a7e72c",
   "metadata": {
    "execution": {
     "iopub.execute_input": "2025-02-05T20:10:43.308261Z",
     "iopub.status.busy": "2025-02-05T20:10:43.307967Z",
     "iopub.status.idle": "2025-02-05T20:10:43.960776Z",
     "shell.execute_reply": "2025-02-05T20:10:43.959857Z"
    },
    "papermill": {
     "duration": 0.660435,
     "end_time": "2025-02-05T20:10:43.962398",
     "exception": false,
     "start_time": "2025-02-05T20:10:43.301963",
     "status": "completed"
    },
    "tags": []
   },
   "outputs": [],
   "source": [
    "#converting datatype\n",
    "df_sales[\"date\"] = pd.to_datetime(df_sales[\"date\"])\n",
    "df_test[\"date\"] = pd.to_datetime(df_test[\"date\"])\n",
    "df_cal_enriched_2025[\"date\"] = pd.to_datetime(df_cal_enriched_2025[\"date\"])"
   ]
  },
  {
   "cell_type": "code",
   "execution_count": 5,
   "id": "6dd63a9e",
   "metadata": {
    "execution": {
     "iopub.execute_input": "2025-02-05T20:10:43.974864Z",
     "iopub.status.busy": "2025-02-05T20:10:43.974600Z",
     "iopub.status.idle": "2025-02-05T20:10:44.695511Z",
     "shell.execute_reply": "2025-02-05T20:10:44.694588Z"
    },
    "papermill": {
     "duration": 0.728766,
     "end_time": "2025-02-05T20:10:44.697276",
     "exception": false,
     "start_time": "2025-02-05T20:10:43.968510",
     "status": "completed"
    },
    "tags": []
   },
   "outputs": [],
   "source": [
    "# Handle Null Values\n",
    "df_sales = df_sales.dropna()\n",
    "df_cal_enriched_2025[\"date_holiday_name\"] = df_cal_enriched_2025[\"date_holiday_name\"].replace({np.NaN: \"Unnamed\"})\n",
    "\n",
    "# drop columns\n",
    "df_sales = df_sales.drop(columns=[\"availability\"])"
   ]
  },
  {
   "cell_type": "markdown",
   "id": "a722633d",
   "metadata": {
    "papermill": {
     "duration": 0.005355,
     "end_time": "2025-02-05T20:10:44.709105",
     "exception": false,
     "start_time": "2025-02-05T20:10:44.703750",
     "status": "completed"
    },
    "tags": []
   },
   "source": [
    "### 2.1 Adding Date and Lag Features"
   ]
  },
  {
   "cell_type": "code",
   "execution_count": 6,
   "id": "a6097d28",
   "metadata": {
    "execution": {
     "iopub.execute_input": "2025-02-05T20:10:44.721033Z",
     "iopub.status.busy": "2025-02-05T20:10:44.720773Z",
     "iopub.status.idle": "2025-02-05T20:10:44.726805Z",
     "shell.execute_reply": "2025-02-05T20:10:44.726084Z"
    },
    "papermill": {
     "duration": 0.013421,
     "end_time": "2025-02-05T20:10:44.727993",
     "exception": false,
     "start_time": "2025-02-05T20:10:44.714572",
     "status": "completed"
    },
    "tags": []
   },
   "outputs": [],
   "source": [
    "# Feature generation functions\n",
    "def add_date_features(df):\n",
    "    df['date_year'] = df['date'].dt.year\n",
    "    df['date_month'] = df['date'].dt.month\n",
    "    df['date_day'] = df['date'].dt.day\n",
    "    df['date_weekofyear'] = df['date'].dt.isocalendar().week\n",
    "    df['date_weekday'] = df['date'].dt.weekday \n",
    "    df['date_dayofyear'] = df['date'].dt.dayofyear\n",
    "    df['date_year_sin'] = np.sin((df['date_year'] - df['date_year'].min()) / (df['date_year'].max() - df['date_year'].min()) * 2 * np.pi)\n",
    "    df['date_year_sin'] = np.sin(df['date_year'] / 1 * 2 * np.pi)\n",
    "    df['date_month_sin'] = np.sin(df['date_month'] / 12 * 2 * np.pi)\n",
    "    return df\n",
    "\n",
    "periods = [14, 21, 28, 56, 112, 224, 365]\n",
    "def add_lag_sales(df_sales):\n",
    "    for period in periods:\n",
    "        df_sales[f\"sales_lag_{period}\"] = df_sales.groupby(\"unique_id\")[\"sales\"].shift(period)\n",
    "        df[f\"sales_lag_{period}\"] = df[f\"sales_lag_{period}\"].fillna(0)\n",
    "    \n",
    "    return df_sales"
   ]
  },
  {
   "cell_type": "code",
   "execution_count": 7,
   "id": "3c80beba",
   "metadata": {
    "execution": {
     "iopub.execute_input": "2025-02-05T20:10:44.740342Z",
     "iopub.status.busy": "2025-02-05T20:10:44.740106Z",
     "iopub.status.idle": "2025-02-05T20:10:51.165724Z",
     "shell.execute_reply": "2025-02-05T20:10:51.164738Z"
    },
    "papermill": {
     "duration": 6.433278,
     "end_time": "2025-02-05T20:10:51.167381",
     "exception": false,
     "start_time": "2025-02-05T20:10:44.734103",
     "status": "completed"
    },
    "tags": []
   },
   "outputs": [],
   "source": [
    "df_test[\"sales\"] = 0\n",
    "df = pd.concat([df_sales, df_test], ignore_index=True).sort_values(\"date\")\n",
    "df = df.merge(df_cal_enriched_2025, on=['date', 'warehouse'], how='left')\n",
    "df = df.merge(df_inv, on=['unique_id', 'warehouse'], how='left')\n",
    "\n",
    "df = add_date_features(df)\n",
    "df = add_lag_sales(df)\n",
    "\n",
    "# replacing NaN with 0 but I think it would be better to replace it with current value of sale\n",
    "del df_sales, df_test, df_inv, df_cal, df_cal_enriched_2025"
   ]
  },
  {
   "cell_type": "markdown",
   "id": "95ff4741",
   "metadata": {
    "papermill": {
     "duration": 0.005379,
     "end_time": "2025-02-05T20:10:51.178814",
     "exception": false,
     "start_time": "2025-02-05T20:10:51.173435",
     "status": "completed"
    },
    "tags": []
   },
   "source": [
    "### 2.2 Statistical Feature Engineering"
   ]
  },
  {
   "cell_type": "code",
   "execution_count": 8,
   "id": "b0b5e333",
   "metadata": {
    "execution": {
     "iopub.execute_input": "2025-02-05T20:10:51.190603Z",
     "iopub.status.busy": "2025-02-05T20:10:51.190312Z",
     "iopub.status.idle": "2025-02-05T20:10:53.852888Z",
     "shell.execute_reply": "2025-02-05T20:10:53.851931Z"
    },
    "papermill": {
     "duration": 2.67029,
     "end_time": "2025-02-05T20:10:53.854549",
     "exception": false,
     "start_time": "2025-02-05T20:10:51.184259",
     "status": "completed"
    },
    "tags": []
   },
   "outputs": [],
   "source": [
    "# average sale of product in previous year\n",
    "grouped = df.groupby([\"unique_id\", \"date_year\"], as_index=False)[\"sales\"].mean()\n",
    "grouped[\"prev_year_avg_sale\"] = grouped.groupby([\"unique_id\"], as_index=False)[\"sales\"].shift(1)\n",
    "grouped = grouped.drop(columns=[\"sales\"]).fillna(0)\n",
    "\n",
    "df = df.merge(grouped, on=[\"unique_id\", \"date_year\"])"
   ]
  },
  {
   "cell_type": "code",
   "execution_count": 9,
   "id": "bf046e24",
   "metadata": {
    "execution": {
     "iopub.execute_input": "2025-02-05T20:10:53.868513Z",
     "iopub.status.busy": "2025-02-05T20:10:53.868188Z",
     "iopub.status.idle": "2025-02-05T20:10:55.471340Z",
     "shell.execute_reply": "2025-02-05T20:10:55.470369Z"
    },
    "papermill": {
     "duration": 1.61225,
     "end_time": "2025-02-05T20:10:55.472933",
     "exception": false,
     "start_time": "2025-02-05T20:10:53.860683",
     "status": "completed"
    },
    "tags": []
   },
   "outputs": [],
   "source": [
    "#average sale of the product at the same month in previous year\n",
    "grouped = df.groupby([\"unique_id\", \"date_year\", \"date_month\"], as_index=False)[\"sales\"].mean()\n",
    "grouped[\"prev_year_month_avg_sale\"] = grouped.groupby([\"unique_id\"])[\"sales\"].shift(12)\n",
    "grouped = grouped.drop(columns=[\"sales\"]).fillna(0)\n",
    "\n",
    "df = df.merge(grouped, on=[\"unique_id\", \"date_year\", \"date_month\"])"
   ]
  },
  {
   "cell_type": "code",
   "execution_count": 10,
   "id": "bfa94e41",
   "metadata": {
    "execution": {
     "iopub.execute_input": "2025-02-05T20:10:55.485191Z",
     "iopub.status.busy": "2025-02-05T20:10:55.484916Z",
     "iopub.status.idle": "2025-02-05T20:10:57.328074Z",
     "shell.execute_reply": "2025-02-05T20:10:57.327333Z"
    },
    "papermill": {
     "duration": 1.850761,
     "end_time": "2025-02-05T20:10:57.329629",
     "exception": false,
     "start_time": "2025-02-05T20:10:55.478868",
     "status": "completed"
    },
    "tags": []
   },
   "outputs": [],
   "source": [
    "#average sale of the product at the quarter in previous year\n",
    "df[\"date_quarter\"] = df[\"date_month\"] // 4\n",
    "grouped = df.groupby([\"unique_id\", \"date_year\", \"date_quarter\"], as_index=False)[\"sales\"].mean()\n",
    "grouped[\"prev_year_quarter_avg_sale\"] = grouped.groupby([\"unique_id\"])[\"sales\"].shift(12)\n",
    "grouped = grouped.drop(columns=[\"sales\"]).fillna(0)\n",
    "\n",
    "df = df.merge(grouped, on=[\"unique_id\", \"date_year\", \"date_quarter\"])"
   ]
  },
  {
   "cell_type": "code",
   "execution_count": 11,
   "id": "e720b2a3",
   "metadata": {
    "execution": {
     "iopub.execute_input": "2025-02-05T20:10:57.343260Z",
     "iopub.status.busy": "2025-02-05T20:10:57.342978Z",
     "iopub.status.idle": "2025-02-05T20:10:57.503768Z",
     "shell.execute_reply": "2025-02-05T20:10:57.503045Z"
    },
    "papermill": {
     "duration": 0.168988,
     "end_time": "2025-02-05T20:10:57.505342",
     "exception": false,
     "start_time": "2025-02-05T20:10:57.336354",
     "status": "completed"
    },
    "tags": []
   },
   "outputs": [],
   "source": [
    "#sale of the product at the same date in previous years\n",
    "df[\"prev_year_date_sale\"] = df.groupby([\"unique_id\"], as_index=False)[\"sales\"].shift(365).fillna(0)"
   ]
  },
  {
   "cell_type": "code",
   "execution_count": 12,
   "id": "033f0d1a",
   "metadata": {
    "execution": {
     "iopub.execute_input": "2025-02-05T20:10:57.517777Z",
     "iopub.status.busy": "2025-02-05T20:10:57.517493Z",
     "iopub.status.idle": "2025-02-05T20:10:59.217189Z",
     "shell.execute_reply": "2025-02-05T20:10:59.216453Z"
    },
    "papermill": {
     "duration": 1.707682,
     "end_time": "2025-02-05T20:10:59.218907",
     "exception": false,
     "start_time": "2025-02-05T20:10:57.511225",
     "status": "completed"
    },
    "tags": []
   },
   "outputs": [],
   "source": [
    "# std of sale of the product in previous years\n",
    "grouped = df.groupby([\"unique_id\", \"date_year\"], as_index=False)[\"sales\"].std()\n",
    "grouped[\"prev_year_std_sale\"] = grouped.groupby([\"unique_id\"], as_index=False)[\"sales\"].shift(1)\n",
    "grouped = grouped.drop(columns=[\"sales\"]).fillna(0)\n",
    "\n",
    "df = df.merge(grouped, on=[\"unique_id\", \"date_year\"])"
   ]
  },
  {
   "cell_type": "code",
   "execution_count": 13,
   "id": "6683a6d6",
   "metadata": {
    "execution": {
     "iopub.execute_input": "2025-02-05T20:10:59.240211Z",
     "iopub.status.busy": "2025-02-05T20:10:59.239936Z",
     "iopub.status.idle": "2025-02-05T20:11:01.104988Z",
     "shell.execute_reply": "2025-02-05T20:11:01.104223Z"
    },
    "papermill": {
     "duration": 1.873013,
     "end_time": "2025-02-05T20:11:01.106492",
     "exception": false,
     "start_time": "2025-02-05T20:10:59.233479",
     "status": "completed"
    },
    "tags": []
   },
   "outputs": [],
   "source": [
    "# std of the product at the same month in previous year\n",
    "grouped = df.groupby([\"unique_id\", \"date_year\", \"date_month\"], as_index=False)[\"sales\"].std()\n",
    "grouped[\"prev_year_month_std_sale\"] = grouped.groupby([\"unique_id\"])[\"sales\"].shift(12)\n",
    "grouped = grouped.drop(columns=[\"sales\"]).fillna(0)\n",
    "\n",
    "df = df.merge(grouped, on=[\"unique_id\", \"date_year\", \"date_month\"])"
   ]
  },
  {
   "cell_type": "code",
   "execution_count": 14,
   "id": "2780efa8",
   "metadata": {
    "execution": {
     "iopub.execute_input": "2025-02-05T20:11:01.119029Z",
     "iopub.status.busy": "2025-02-05T20:11:01.118791Z",
     "iopub.status.idle": "2025-02-05T20:11:04.073377Z",
     "shell.execute_reply": "2025-02-05T20:11:04.072627Z"
    },
    "papermill": {
     "duration": 2.962483,
     "end_time": "2025-02-05T20:11:04.075015",
     "exception": false,
     "start_time": "2025-02-05T20:11:01.112532",
     "status": "completed"
    },
    "tags": []
   },
   "outputs": [],
   "source": [
    "# average sale of the product in the time period from January to June (because data after june\n",
    "# is not available for test set)\n",
    "\n",
    "grouped = df[df[\"date_month\"].between(1, 6)].groupby([\"unique_id\"], as_index=False)[\"sales\"].mean().rename(columns={\"sales\": \"avg_sale_upto_june\"})\n",
    "df = df.merge(grouped, on=[\"unique_id\"])"
   ]
  },
  {
   "cell_type": "code",
   "execution_count": 15,
   "id": "8cc12b91",
   "metadata": {
    "execution": {
     "iopub.execute_input": "2025-02-05T20:11:04.088048Z",
     "iopub.status.busy": "2025-02-05T20:11:04.087750Z",
     "iopub.status.idle": "2025-02-05T20:11:07.726688Z",
     "shell.execute_reply": "2025-02-05T20:11:07.725973Z"
    },
    "papermill": {
     "duration": 3.646886,
     "end_time": "2025-02-05T20:11:07.728191",
     "exception": false,
     "start_time": "2025-02-05T20:11:04.081305",
     "status": "completed"
    },
    "tags": []
   },
   "outputs": [],
   "source": [
    "# what's the maximum and minimum price of a particular product(for the year) \n",
    "# (because if a product's maximum price is greater than the current price then it's sale perhaps would be higher)\n",
    "\n",
    "grouped = df.groupby([\"unique_id\", \"date_year\"], as_index=False)[\"sell_price_main\"].min().rename(columns={\"sell_price_main\": \"min_price\"})\n",
    "df = df.merge(grouped, on=[\"unique_id\", \"date_year\"])\n",
    "\n",
    "grouped = df.groupby([\"unique_id\", \"date_year\"], as_index=False)[\"sell_price_main\"].max().rename(columns={\"sell_price_main\": \"max_price\"})\n",
    "df = df.merge(grouped, on=[\"unique_id\", \"date_year\"])"
   ]
  },
  {
   "cell_type": "markdown",
   "id": "67e61ffe",
   "metadata": {
    "papermill": {
     "duration": 0.005275,
     "end_time": "2025-02-05T20:11:07.739330",
     "exception": false,
     "start_time": "2025-02-05T20:11:07.734055",
     "status": "completed"
    },
    "tags": []
   },
   "source": [
    "### 2.3 Feature Transformations"
   ]
  },
  {
   "cell_type": "code",
   "execution_count": 16,
   "id": "43c06795",
   "metadata": {
    "execution": {
     "iopub.execute_input": "2025-02-05T20:11:07.751163Z",
     "iopub.status.busy": "2025-02-05T20:11:07.750918Z",
     "iopub.status.idle": "2025-02-05T20:11:07.754471Z",
     "shell.execute_reply": "2025-02-05T20:11:07.753898Z"
    },
    "papermill": {
     "duration": 0.010818,
     "end_time": "2025-02-05T20:11:07.755550",
     "exception": false,
     "start_time": "2025-02-05T20:11:07.744732",
     "status": "completed"
    },
    "tags": []
   },
   "outputs": [],
   "source": [
    "# log transformation\n",
    "cols = ['total_orders', 'sell_price_main',\n",
    "       'type_0_discount', 'type_1_discount', 'type_2_discount',\n",
    "       'type_3_discount', 'type_4_discount', 'type_5_discount',\n",
    "       'type_6_discount', 'date_holiday_flag', 'date_shops_closed_flag',\n",
    "       'date_winter_school_holidays_flag', 'date_school_holidays_flag',\n",
    "       'date_days_to_next_holiday', 'date_days_to_shops_closed',\n",
    "       'date_day_after_closed_day', 'date_second_closed_day',\n",
    "       'date_day_after_two_closed_days', 'product_unique_id', 'date_year_sin',\n",
    "       'date_month_sin', 'sales_lag_14', 'sales_lag_21', 'sales_lag_28',\n",
    "       'sales_lag_56', 'sales_lag_112', 'sales_lag_224', 'sales_lag_365',\n",
    "       'prev_year_avg_sale', 'prev_year_date_sale',\n",
    "       'prev_year_std_sale', 'prev_year_month_std_sale', \"prev_year_quarter_avg_sale\"]"
   ]
  },
  {
   "cell_type": "code",
   "execution_count": 17,
   "id": "40c09d97",
   "metadata": {
    "execution": {
     "iopub.execute_input": "2025-02-05T20:11:07.767025Z",
     "iopub.status.busy": "2025-02-05T20:11:07.766783Z",
     "iopub.status.idle": "2025-02-05T20:11:07.771237Z",
     "shell.execute_reply": "2025-02-05T20:11:07.770426Z"
    },
    "papermill": {
     "duration": 0.011278,
     "end_time": "2025-02-05T20:11:07.772320",
     "exception": false,
     "start_time": "2025-02-05T20:11:07.761042",
     "status": "completed"
    },
    "tags": []
   },
   "outputs": [],
   "source": [
    "def apply_transformations(df, cols):\n",
    "    pt = PowerTransformer(method=\"box-cox\")\n",
    "    print(\"Transformation being applied on...\")\n",
    "    for col in cols:\n",
    "        print(f\"\\t{col}\")\n",
    "        \n",
    "        if(df[col].min() >= 0):\n",
    "            df[f\"{col}_sqrt\"] = np.sqrt(df[col])\n",
    "            \n",
    "        if(df[col].min() > 0):\n",
    "            df[f\"{col}_log\"] = np.log(df[col])\n",
    "            df[f\"{col}_box_cox\"] = pt.fit_transform(df[[col]]).flatten()\n",
    "\n",
    "    return df"
   ]
  },
  {
   "cell_type": "code",
   "execution_count": 18,
   "id": "29569248",
   "metadata": {
    "execution": {
     "iopub.execute_input": "2025-02-05T20:11:07.784003Z",
     "iopub.status.busy": "2025-02-05T20:11:07.783762Z",
     "iopub.status.idle": "2025-02-05T20:12:36.891491Z",
     "shell.execute_reply": "2025-02-05T20:12:36.890466Z"
    },
    "papermill": {
     "duration": 89.115224,
     "end_time": "2025-02-05T20:12:36.892898",
     "exception": false,
     "start_time": "2025-02-05T20:11:07.777674",
     "status": "completed"
    },
    "tags": []
   },
   "outputs": [
    {
     "name": "stdout",
     "output_type": "stream",
     "text": [
      "Transformation being applied on...\n",
      "\ttotal_orders\n",
      "\tsell_price_main\n",
      "\ttype_0_discount\n",
      "\ttype_1_discount\n",
      "\ttype_2_discount\n",
      "\ttype_3_discount\n",
      "\ttype_4_discount\n",
      "\ttype_5_discount\n",
      "\ttype_6_discount\n",
      "\tdate_holiday_flag\n",
      "\tdate_shops_closed_flag\n",
      "\tdate_winter_school_holidays_flag\n",
      "\tdate_school_holidays_flag\n",
      "\tdate_days_to_next_holiday\n",
      "\tdate_days_to_shops_closed\n",
      "\tdate_day_after_closed_day\n",
      "\tdate_second_closed_day\n",
      "\tdate_day_after_two_closed_days\n",
      "\tproduct_unique_id\n",
      "\tdate_year_sin\n",
      "\tdate_month_sin\n",
      "\tsales_lag_14\n",
      "\tsales_lag_21\n",
      "\tsales_lag_28\n",
      "\tsales_lag_56\n",
      "\tsales_lag_112\n",
      "\tsales_lag_224\n",
      "\tsales_lag_365\n",
      "\tprev_year_avg_sale\n",
      "\tprev_year_date_sale\n",
      "\tprev_year_std_sale\n",
      "\tprev_year_month_std_sale\n",
      "\tprev_year_quarter_avg_sale\n"
     ]
    }
   ],
   "source": [
    "df = apply_transformations(df, cols)"
   ]
  },
  {
   "cell_type": "code",
   "execution_count": 19,
   "id": "5160dc6a",
   "metadata": {
    "execution": {
     "iopub.execute_input": "2025-02-05T20:12:36.905750Z",
     "iopub.status.busy": "2025-02-05T20:12:36.905466Z",
     "iopub.status.idle": "2025-02-05T20:12:36.955811Z",
     "shell.execute_reply": "2025-02-05T20:12:36.955103Z"
    },
    "papermill": {
     "duration": 0.058365,
     "end_time": "2025-02-05T20:12:36.957360",
     "exception": false,
     "start_time": "2025-02-05T20:12:36.898995",
     "status": "completed"
    },
    "tags": []
   },
   "outputs": [],
   "source": [
    "# Target feature transformation\n",
    "df['sales'] = df['sales']**(1/8)"
   ]
  },
  {
   "cell_type": "markdown",
   "id": "da2ec07b",
   "metadata": {
    "papermill": {
     "duration": 0.005765,
     "end_time": "2025-02-05T20:12:36.969302",
     "exception": false,
     "start_time": "2025-02-05T20:12:36.963537",
     "status": "completed"
    },
    "tags": []
   },
   "source": [
    "### 2.4 Warehouse feature engineering"
   ]
  },
  {
   "cell_type": "code",
   "execution_count": 20,
   "id": "ddd28949",
   "metadata": {
    "execution": {
     "iopub.execute_input": "2025-02-05T20:12:36.981833Z",
     "iopub.status.busy": "2025-02-05T20:12:36.981556Z",
     "iopub.status.idle": "2025-02-05T20:12:40.653416Z",
     "shell.execute_reply": "2025-02-05T20:12:40.652735Z"
    },
    "papermill": {
     "duration": 3.679988,
     "end_time": "2025-02-05T20:12:40.655007",
     "exception": false,
     "start_time": "2025-02-05T20:12:36.975019",
     "status": "completed"
    },
    "tags": []
   },
   "outputs": [],
   "source": [
    "# average sale of the warehouse during that year\n",
    "grouped = df.groupby([\"warehouse\", \"date_year\"], as_index=False)['sales'].mean().rename(columns={\"sales\": \"avg_warehouse_sales_per_year\"})\n",
    "df = df.merge(grouped, on=[\"warehouse\", \"date_year\"])"
   ]
  },
  {
   "cell_type": "markdown",
   "id": "6883b0d7",
   "metadata": {
    "papermill": {
     "duration": 0.00588,
     "end_time": "2025-02-05T20:12:40.667221",
     "exception": false,
     "start_time": "2025-02-05T20:12:40.661341",
     "status": "completed"
    },
    "tags": []
   },
   "source": [
    "### 2.3 Rolling average of sales"
   ]
  },
  {
   "cell_type": "code",
   "execution_count": 21,
   "id": "7dd5c582",
   "metadata": {
    "execution": {
     "iopub.execute_input": "2025-02-05T20:12:40.680143Z",
     "iopub.status.busy": "2025-02-05T20:12:40.679856Z",
     "iopub.status.idle": "2025-02-05T20:12:40.683168Z",
     "shell.execute_reply": "2025-02-05T20:12:40.682329Z"
    },
    "papermill": {
     "duration": 0.011412,
     "end_time": "2025-02-05T20:12:40.684515",
     "exception": false,
     "start_time": "2025-02-05T20:12:40.673103",
     "status": "completed"
    },
    "tags": []
   },
   "outputs": [],
   "source": [
    "# size = 30\n",
    "# unique_id=1285\n",
    "# df_roll = df.copy()\n",
    "# df_roll[f\"sales_roll_{size}\"] = df.groupby(\"unique_id\", as_index=False)[\"sales\"].rolling(window=size).mean().fillna(0)[\"sales\"]\n",
    "\n",
    "# df_roll = df_roll[df_roll['unique_id']==unique_id]\n",
    "# plt.figure(figsize=(10, 5))\n",
    "# plt.plot(df_roll[\"date\"], df_roll[\"sales\"], color=\"lightblue\", label=\"sales\")\n",
    "# plt.plot(df_roll[\"date\"], df_roll[f\"sales_roll_{size}\"], color=\"red\", label=f\"rolling_sales_{size}\")\n",
    "# plt.legend()\n",
    "# plt.xlabel(\"date\")\n",
    "# plt.ylabel(\"sales\")\n",
    "\n",
    "# del df_roll"
   ]
  },
  {
   "cell_type": "code",
   "execution_count": 22,
   "id": "1170db34",
   "metadata": {
    "execution": {
     "iopub.execute_input": "2025-02-05T20:12:40.697951Z",
     "iopub.status.busy": "2025-02-05T20:12:40.697616Z",
     "iopub.status.idle": "2025-02-05T20:12:40.700833Z",
     "shell.execute_reply": "2025-02-05T20:12:40.699992Z"
    },
    "papermill": {
     "duration": 0.0115,
     "end_time": "2025-02-05T20:12:40.702067",
     "exception": false,
     "start_time": "2025-02-05T20:12:40.690567",
     "status": "completed"
    },
    "tags": []
   },
   "outputs": [],
   "source": [
    "# window_sizes = [7, 15, 30, 60, 90, 120, 270, 365]\n",
    "# def add_rolling_features(df):\n",
    "#     for size in window_sizes:\n",
    "#         df[f\"sales_rolled_{size}\"] = df.groupby(\"unique_id\", as_index=False)[\"sales\"].rolling(window=size).mean()[\"sales\"]\n",
    "#         df[f\"sales_rolled_{size}\"] = df[f\"sales_rolled_{size}\"].fillna(0)\n",
    "#     return df"
   ]
  },
  {
   "cell_type": "code",
   "execution_count": 23,
   "id": "a2bf4e8d",
   "metadata": {
    "execution": {
     "iopub.execute_input": "2025-02-05T20:12:40.714988Z",
     "iopub.status.busy": "2025-02-05T20:12:40.714738Z",
     "iopub.status.idle": "2025-02-05T20:12:40.717404Z",
     "shell.execute_reply": "2025-02-05T20:12:40.716835Z"
    },
    "papermill": {
     "duration": 0.010527,
     "end_time": "2025-02-05T20:12:40.718623",
     "exception": false,
     "start_time": "2025-02-05T20:12:40.708096",
     "status": "completed"
    },
    "tags": []
   },
   "outputs": [],
   "source": [
    "# df = add_rolling_features(df)\n",
    "# The score dropped to 57 from 21 when rolling features were used"
   ]
  },
  {
   "cell_type": "markdown",
   "id": "cde1d0a4",
   "metadata": {
    "papermill": {
     "duration": 0.005891,
     "end_time": "2025-02-05T20:12:40.730515",
     "exception": false,
     "start_time": "2025-02-05T20:12:40.724624",
     "status": "completed"
    },
    "tags": []
   },
   "source": [
    "## 3. Training and Test Prediction"
   ]
  },
  {
   "cell_type": "code",
   "execution_count": 24,
   "id": "217caa76",
   "metadata": {
    "execution": {
     "iopub.execute_input": "2025-02-05T20:12:40.743330Z",
     "iopub.status.busy": "2025-02-05T20:12:40.743062Z",
     "iopub.status.idle": "2025-02-05T20:12:42.517237Z",
     "shell.execute_reply": "2025-02-05T20:12:42.516326Z"
    },
    "papermill": {
     "duration": 1.782753,
     "end_time": "2025-02-05T20:12:42.519092",
     "exception": false,
     "start_time": "2025-02-05T20:12:40.736339",
     "status": "completed"
    },
    "tags": []
   },
   "outputs": [],
   "source": [
    "# Ensuring correct datatypes\n",
    "\n",
    "for col in df.select_dtypes(\"object\").columns:\n",
    "    df[col] = df[col].astype('category')"
   ]
  },
  {
   "cell_type": "markdown",
   "id": "5be26b83",
   "metadata": {
    "papermill": {
     "duration": 0.005871,
     "end_time": "2025-02-05T20:12:42.532884",
     "exception": false,
     "start_time": "2025-02-05T20:12:42.527013",
     "status": "completed"
    },
    "tags": []
   },
   "source": [
    "### 3.1 Simple XGBoost"
   ]
  },
  {
   "cell_type": "code",
   "execution_count": 25,
   "id": "fc34de7d",
   "metadata": {
    "execution": {
     "iopub.execute_input": "2025-02-05T20:12:42.546281Z",
     "iopub.status.busy": "2025-02-05T20:12:42.545956Z",
     "iopub.status.idle": "2025-02-05T20:12:45.638571Z",
     "shell.execute_reply": "2025-02-05T20:12:45.637893Z"
    },
    "papermill": {
     "duration": 3.101527,
     "end_time": "2025-02-05T20:12:45.640228",
     "exception": false,
     "start_time": "2025-02-05T20:12:42.538701",
     "status": "completed"
    },
    "tags": []
   },
   "outputs": [],
   "source": [
    "# Train Test split \n",
    "train_dates = (\"2020-08-01\", \"2024-06-02\")\n",
    "# val_dates = (\"2024-05-19\", \"2024-06-02\")\n",
    "test_dates = (\"2024-06-03\", \"2024-06-17\")\n",
    "\n",
    "X_train = df[df[\"date\"].between(train_dates[0], train_dates[1])].drop(columns= [\"sales\"])\n",
    "y_train = df[df[\"date\"].between(train_dates[0], train_dates[1])][\"sales\"]\n",
    "# X_val = df[df[\"date\"].between(val_dates[0], val_dates[1])].drop(columns= [\"sales\"])\n",
    "# y_val = df[df[\"date\"].between(val_dates[0], val_dates[1])][\"sales\"]\n",
    "X_test = df[df[\"date\"].between(test_dates[0], test_dates[1])].drop(columns=[\"sales\"])\n",
    "y_test = df[df[\"date\"].between(test_dates[0], test_dates[1])][\"sales\"]"
   ]
  },
  {
   "cell_type": "markdown",
   "id": "bfc8a565",
   "metadata": {
    "papermill": {
     "duration": 0.005834,
     "end_time": "2025-02-05T20:12:45.652467",
     "exception": false,
     "start_time": "2025-02-05T20:12:45.646633",
     "status": "completed"
    },
    "tags": []
   },
   "source": [
    "* eta = 0.02 led to score 18.09 in 1500 iterations\n",
    "* eta=0.06 led to 17.84 in 1500 iterations. "
   ]
  },
  {
   "cell_type": "code",
   "execution_count": 26,
   "id": "71f6e0e0",
   "metadata": {
    "execution": {
     "iopub.execute_input": "2025-02-05T20:12:45.665190Z",
     "iopub.status.busy": "2025-02-05T20:12:45.664918Z",
     "iopub.status.idle": "2025-02-05T20:14:20.467267Z",
     "shell.execute_reply": "2025-02-05T20:14:20.466546Z"
    },
    "papermill": {
     "duration": 94.810445,
     "end_time": "2025-02-05T20:14:20.468766",
     "exception": false,
     "start_time": "2025-02-05T20:12:45.658321",
     "status": "completed"
    },
    "tags": []
   },
   "outputs": [
    {
     "name": "stdout",
     "output_type": "stream",
     "text": [
      "[0]\ttrain_set-mae:0.20514\n",
      "[1]\ttrain_set-mae:0.19298\n",
      "[2]\ttrain_set-mae:0.18205\n",
      "[3]\ttrain_set-mae:0.17193\n",
      "[4]\ttrain_set-mae:0.16274\n",
      "[5]\ttrain_set-mae:0.15430\n",
      "[6]\ttrain_set-mae:0.14654\n",
      "[7]\ttrain_set-mae:0.13954\n",
      "[8]\ttrain_set-mae:0.13328\n",
      "[9]\ttrain_set-mae:0.12748\n",
      "[10]\ttrain_set-mae:0.12219\n",
      "[11]\ttrain_set-mae:0.11739\n",
      "[12]\ttrain_set-mae:0.11306\n",
      "[13]\ttrain_set-mae:0.10863\n",
      "[14]\ttrain_set-mae:0.10493\n",
      "[15]\ttrain_set-mae:0.10156\n",
      "[16]\ttrain_set-mae:0.09843\n",
      "[17]\ttrain_set-mae:0.09560\n",
      "[18]\ttrain_set-mae:0.09307\n",
      "[19]\ttrain_set-mae:0.09072\n",
      "[20]\ttrain_set-mae:0.08860\n",
      "[21]\ttrain_set-mae:0.08670\n",
      "[22]\ttrain_set-mae:0.08498\n",
      "[23]\ttrain_set-mae:0.08343\n",
      "[24]\ttrain_set-mae:0.08201\n",
      "[25]\ttrain_set-mae:0.08072\n",
      "[26]\ttrain_set-mae:0.07958\n",
      "[27]\ttrain_set-mae:0.07849\n",
      "[28]\ttrain_set-mae:0.07750\n",
      "[29]\ttrain_set-mae:0.07651\n",
      "[30]\ttrain_set-mae:0.07564\n",
      "[31]\ttrain_set-mae:0.07486\n",
      "[32]\ttrain_set-mae:0.07410\n",
      "[33]\ttrain_set-mae:0.07338\n",
      "[34]\ttrain_set-mae:0.07274\n",
      "[35]\ttrain_set-mae:0.07217\n",
      "[36]\ttrain_set-mae:0.07160\n",
      "[37]\ttrain_set-mae:0.07111\n",
      "[38]\ttrain_set-mae:0.07065\n",
      "[39]\ttrain_set-mae:0.07017\n",
      "[40]\ttrain_set-mae:0.06974\n",
      "[41]\ttrain_set-mae:0.06935\n",
      "[42]\ttrain_set-mae:0.06898\n",
      "[43]\ttrain_set-mae:0.06867\n",
      "[44]\ttrain_set-mae:0.06835\n",
      "[45]\ttrain_set-mae:0.06800\n",
      "[46]\ttrain_set-mae:0.06776\n",
      "[47]\ttrain_set-mae:0.06753\n",
      "[48]\ttrain_set-mae:0.06723\n",
      "[49]\ttrain_set-mae:0.06698\n",
      "[50]\ttrain_set-mae:0.06673\n",
      "[51]\ttrain_set-mae:0.06650\n",
      "[52]\ttrain_set-mae:0.06635\n",
      "[53]\ttrain_set-mae:0.06617\n",
      "[54]\ttrain_set-mae:0.06597\n",
      "[55]\ttrain_set-mae:0.06582\n",
      "[56]\ttrain_set-mae:0.06563\n",
      "[57]\ttrain_set-mae:0.06549\n",
      "[58]\ttrain_set-mae:0.06539\n",
      "[59]\ttrain_set-mae:0.06524\n",
      "[60]\ttrain_set-mae:0.06511\n",
      "[61]\ttrain_set-mae:0.06500\n",
      "[62]\ttrain_set-mae:0.06485\n",
      "[63]\ttrain_set-mae:0.06477\n",
      "[64]\ttrain_set-mae:0.06467\n",
      "[65]\ttrain_set-mae:0.06455\n",
      "[66]\ttrain_set-mae:0.06445\n",
      "[67]\ttrain_set-mae:0.06433\n",
      "[68]\ttrain_set-mae:0.06422\n",
      "[69]\ttrain_set-mae:0.06413\n",
      "[70]\ttrain_set-mae:0.06404\n",
      "[71]\ttrain_set-mae:0.06394\n",
      "[72]\ttrain_set-mae:0.06388\n",
      "[73]\ttrain_set-mae:0.06380\n",
      "[74]\ttrain_set-mae:0.06374\n",
      "[75]\ttrain_set-mae:0.06368\n",
      "[76]\ttrain_set-mae:0.06360\n",
      "[77]\ttrain_set-mae:0.06355\n",
      "[78]\ttrain_set-mae:0.06346\n",
      "[79]\ttrain_set-mae:0.06341\n",
      "[80]\ttrain_set-mae:0.06335\n",
      "[81]\ttrain_set-mae:0.06324\n",
      "[82]\ttrain_set-mae:0.06315\n",
      "[83]\ttrain_set-mae:0.06310\n",
      "[84]\ttrain_set-mae:0.06304\n",
      "[85]\ttrain_set-mae:0.06298\n",
      "[86]\ttrain_set-mae:0.06292\n",
      "[87]\ttrain_set-mae:0.06287\n",
      "[88]\ttrain_set-mae:0.06281\n",
      "[89]\ttrain_set-mae:0.06275\n",
      "[90]\ttrain_set-mae:0.06269\n",
      "[91]\ttrain_set-mae:0.06263\n",
      "[92]\ttrain_set-mae:0.06257\n",
      "[93]\ttrain_set-mae:0.06252\n",
      "[94]\ttrain_set-mae:0.06246\n",
      "[95]\ttrain_set-mae:0.06242\n",
      "[96]\ttrain_set-mae:0.06236\n",
      "[97]\ttrain_set-mae:0.06233\n",
      "[98]\ttrain_set-mae:0.06225\n",
      "[99]\ttrain_set-mae:0.06215\n",
      "[100]\ttrain_set-mae:0.06210\n",
      "[101]\ttrain_set-mae:0.06205\n",
      "[102]\ttrain_set-mae:0.06198\n",
      "[103]\ttrain_set-mae:0.06189\n",
      "[104]\ttrain_set-mae:0.06183\n",
      "[105]\ttrain_set-mae:0.06176\n",
      "[106]\ttrain_set-mae:0.06170\n",
      "[107]\ttrain_set-mae:0.06162\n",
      "[108]\ttrain_set-mae:0.06154\n",
      "[109]\ttrain_set-mae:0.06148\n",
      "[110]\ttrain_set-mae:0.06143\n",
      "[111]\ttrain_set-mae:0.06138\n",
      "[112]\ttrain_set-mae:0.06133\n",
      "[113]\ttrain_set-mae:0.06127\n",
      "[114]\ttrain_set-mae:0.06121\n",
      "[115]\ttrain_set-mae:0.06116\n",
      "[116]\ttrain_set-mae:0.06112\n",
      "[117]\ttrain_set-mae:0.06107\n",
      "[118]\ttrain_set-mae:0.06101\n",
      "[119]\ttrain_set-mae:0.06097\n",
      "[120]\ttrain_set-mae:0.06092\n",
      "[121]\ttrain_set-mae:0.06086\n",
      "[122]\ttrain_set-mae:0.06082\n",
      "[123]\ttrain_set-mae:0.06078\n",
      "[124]\ttrain_set-mae:0.06074\n",
      "[125]\ttrain_set-mae:0.06070\n",
      "[126]\ttrain_set-mae:0.06067\n",
      "[127]\ttrain_set-mae:0.06061\n",
      "[128]\ttrain_set-mae:0.06058\n",
      "[129]\ttrain_set-mae:0.06055\n",
      "[130]\ttrain_set-mae:0.06050\n",
      "[131]\ttrain_set-mae:0.06046\n",
      "[132]\ttrain_set-mae:0.06042\n",
      "[133]\ttrain_set-mae:0.06038\n",
      "[134]\ttrain_set-mae:0.06035\n",
      "[135]\ttrain_set-mae:0.06031\n",
      "[136]\ttrain_set-mae:0.06028\n",
      "[137]\ttrain_set-mae:0.06024\n",
      "[138]\ttrain_set-mae:0.06021\n",
      "[139]\ttrain_set-mae:0.06017\n",
      "[140]\ttrain_set-mae:0.06013\n",
      "[141]\ttrain_set-mae:0.06011\n",
      "[142]\ttrain_set-mae:0.06008\n",
      "[143]\ttrain_set-mae:0.06006\n",
      "[144]\ttrain_set-mae:0.06002\n",
      "[145]\ttrain_set-mae:0.06000\n",
      "[146]\ttrain_set-mae:0.05996\n",
      "[147]\ttrain_set-mae:0.05994\n",
      "[148]\ttrain_set-mae:0.05991\n",
      "[149]\ttrain_set-mae:0.05989\n",
      "[150]\ttrain_set-mae:0.05986\n",
      "[151]\ttrain_set-mae:0.05983\n",
      "[152]\ttrain_set-mae:0.05980\n",
      "[153]\ttrain_set-mae:0.05976\n",
      "[154]\ttrain_set-mae:0.05974\n",
      "[155]\ttrain_set-mae:0.05970\n",
      "[156]\ttrain_set-mae:0.05967\n",
      "[157]\ttrain_set-mae:0.05964\n",
      "[158]\ttrain_set-mae:0.05962\n",
      "[159]\ttrain_set-mae:0.05959\n",
      "[160]\ttrain_set-mae:0.05957\n",
      "[161]\ttrain_set-mae:0.05952\n",
      "[162]\ttrain_set-mae:0.05944\n",
      "[163]\ttrain_set-mae:0.05943\n",
      "[164]\ttrain_set-mae:0.05941\n",
      "[165]\ttrain_set-mae:0.05939\n",
      "[166]\ttrain_set-mae:0.05937\n",
      "[167]\ttrain_set-mae:0.05934\n",
      "[168]\ttrain_set-mae:0.05932\n",
      "[169]\ttrain_set-mae:0.05930\n",
      "[170]\ttrain_set-mae:0.05928\n",
      "[171]\ttrain_set-mae:0.05925\n",
      "[172]\ttrain_set-mae:0.05922\n",
      "[173]\ttrain_set-mae:0.05919\n",
      "[174]\ttrain_set-mae:0.05917\n",
      "[175]\ttrain_set-mae:0.05915\n",
      "[176]\ttrain_set-mae:0.05914\n",
      "[177]\ttrain_set-mae:0.05910\n",
      "[178]\ttrain_set-mae:0.05905\n",
      "[179]\ttrain_set-mae:0.05904\n",
      "[180]\ttrain_set-mae:0.05901\n",
      "[181]\ttrain_set-mae:0.05900\n",
      "[182]\ttrain_set-mae:0.05898\n",
      "[183]\ttrain_set-mae:0.05896\n",
      "[184]\ttrain_set-mae:0.05894\n",
      "[185]\ttrain_set-mae:0.05893\n",
      "[186]\ttrain_set-mae:0.05890\n",
      "[187]\ttrain_set-mae:0.05889\n",
      "[188]\ttrain_set-mae:0.05887\n",
      "[189]\ttrain_set-mae:0.05886\n",
      "[190]\ttrain_set-mae:0.05884\n",
      "[191]\ttrain_set-mae:0.05881\n",
      "[192]\ttrain_set-mae:0.05881\n",
      "[193]\ttrain_set-mae:0.05876\n",
      "[194]\ttrain_set-mae:0.05873\n",
      "[195]\ttrain_set-mae:0.05871\n",
      "[196]\ttrain_set-mae:0.05870\n",
      "[197]\ttrain_set-mae:0.05868\n",
      "[198]\ttrain_set-mae:0.05867\n",
      "[199]\ttrain_set-mae:0.05866\n",
      "[200]\ttrain_set-mae:0.05864\n",
      "[201]\ttrain_set-mae:0.05862\n",
      "[202]\ttrain_set-mae:0.05861\n",
      "[203]\ttrain_set-mae:0.05860\n",
      "[204]\ttrain_set-mae:0.05858\n",
      "[205]\ttrain_set-mae:0.05857\n",
      "[206]\ttrain_set-mae:0.05854\n",
      "[207]\ttrain_set-mae:0.05853\n",
      "[208]\ttrain_set-mae:0.05852\n",
      "[209]\ttrain_set-mae:0.05850\n",
      "[210]\ttrain_set-mae:0.05849\n",
      "[211]\ttrain_set-mae:0.05848\n",
      "[212]\ttrain_set-mae:0.05847\n",
      "[213]\ttrain_set-mae:0.05845\n",
      "[214]\ttrain_set-mae:0.05845\n",
      "[215]\ttrain_set-mae:0.05844\n",
      "[216]\ttrain_set-mae:0.05843\n",
      "[217]\ttrain_set-mae:0.05840\n",
      "[218]\ttrain_set-mae:0.05839\n",
      "[219]\ttrain_set-mae:0.05837\n",
      "[220]\ttrain_set-mae:0.05836\n",
      "[221]\ttrain_set-mae:0.05835\n",
      "[222]\ttrain_set-mae:0.05834\n",
      "[223]\ttrain_set-mae:0.05833\n",
      "[224]\ttrain_set-mae:0.05831\n",
      "[225]\ttrain_set-mae:0.05830\n",
      "[226]\ttrain_set-mae:0.05829\n",
      "[227]\ttrain_set-mae:0.05828\n",
      "[228]\ttrain_set-mae:0.05827\n",
      "[229]\ttrain_set-mae:0.05826\n",
      "[230]\ttrain_set-mae:0.05825\n",
      "[231]\ttrain_set-mae:0.05824\n",
      "[232]\ttrain_set-mae:0.05822\n",
      "[233]\ttrain_set-mae:0.05821\n",
      "[234]\ttrain_set-mae:0.05821\n",
      "[235]\ttrain_set-mae:0.05819\n",
      "[236]\ttrain_set-mae:0.05818\n",
      "[237]\ttrain_set-mae:0.05817\n",
      "[238]\ttrain_set-mae:0.05816\n",
      "[239]\ttrain_set-mae:0.05815\n",
      "[240]\ttrain_set-mae:0.05814\n",
      "[241]\ttrain_set-mae:0.05813\n",
      "[242]\ttrain_set-mae:0.05813\n",
      "[243]\ttrain_set-mae:0.05812\n",
      "[244]\ttrain_set-mae:0.05810\n",
      "[245]\ttrain_set-mae:0.05810\n",
      "[246]\ttrain_set-mae:0.05808\n",
      "[247]\ttrain_set-mae:0.05807\n",
      "[248]\ttrain_set-mae:0.05807\n",
      "[249]\ttrain_set-mae:0.05806\n",
      "[250]\ttrain_set-mae:0.05805\n",
      "[251]\ttrain_set-mae:0.05804\n",
      "[252]\ttrain_set-mae:0.05804\n",
      "[253]\ttrain_set-mae:0.05803\n",
      "[254]\ttrain_set-mae:0.05801\n",
      "[255]\ttrain_set-mae:0.05800\n",
      "[256]\ttrain_set-mae:0.05799\n",
      "[257]\ttrain_set-mae:0.05798\n",
      "[258]\ttrain_set-mae:0.05798\n",
      "[259]\ttrain_set-mae:0.05796\n",
      "[260]\ttrain_set-mae:0.05796\n",
      "[261]\ttrain_set-mae:0.05795\n",
      "[262]\ttrain_set-mae:0.05794\n",
      "[263]\ttrain_set-mae:0.05794\n",
      "[264]\ttrain_set-mae:0.05792\n",
      "[265]\ttrain_set-mae:0.05792\n",
      "[266]\ttrain_set-mae:0.05791\n",
      "[267]\ttrain_set-mae:0.05791\n",
      "[268]\ttrain_set-mae:0.05790\n",
      "[269]\ttrain_set-mae:0.05790\n",
      "[270]\ttrain_set-mae:0.05789\n",
      "[271]\ttrain_set-mae:0.05788\n",
      "[272]\ttrain_set-mae:0.05786\n",
      "[273]\ttrain_set-mae:0.05786\n",
      "[274]\ttrain_set-mae:0.05786\n",
      "[275]\ttrain_set-mae:0.05785\n",
      "[276]\ttrain_set-mae:0.05784\n",
      "[277]\ttrain_set-mae:0.05784\n",
      "[278]\ttrain_set-mae:0.05783\n",
      "[279]\ttrain_set-mae:0.05782\n",
      "[280]\ttrain_set-mae:0.05781\n",
      "[281]\ttrain_set-mae:0.05779\n",
      "[282]\ttrain_set-mae:0.05779\n",
      "[283]\ttrain_set-mae:0.05777\n",
      "[284]\ttrain_set-mae:0.05776\n",
      "[285]\ttrain_set-mae:0.05776\n",
      "[286]\ttrain_set-mae:0.05775\n",
      "[287]\ttrain_set-mae:0.05775\n",
      "[288]\ttrain_set-mae:0.05774\n",
      "[289]\ttrain_set-mae:0.05774\n",
      "[290]\ttrain_set-mae:0.05773\n",
      "[291]\ttrain_set-mae:0.05773\n",
      "[292]\ttrain_set-mae:0.05772\n",
      "[293]\ttrain_set-mae:0.05771\n",
      "[294]\ttrain_set-mae:0.05770\n",
      "[295]\ttrain_set-mae:0.05770\n",
      "[296]\ttrain_set-mae:0.05769\n",
      "[297]\ttrain_set-mae:0.05769\n",
      "[298]\ttrain_set-mae:0.05768\n",
      "[299]\ttrain_set-mae:0.05767\n",
      "[300]\ttrain_set-mae:0.05767\n",
      "[301]\ttrain_set-mae:0.05766\n",
      "[302]\ttrain_set-mae:0.05766\n",
      "[303]\ttrain_set-mae:0.05765\n",
      "[304]\ttrain_set-mae:0.05765\n",
      "[305]\ttrain_set-mae:0.05764\n",
      "[306]\ttrain_set-mae:0.05764\n",
      "[307]\ttrain_set-mae:0.05763\n",
      "[308]\ttrain_set-mae:0.05763\n",
      "[309]\ttrain_set-mae:0.05762\n",
      "[310]\ttrain_set-mae:0.05762\n",
      "[311]\ttrain_set-mae:0.05761\n",
      "[312]\ttrain_set-mae:0.05760\n",
      "[313]\ttrain_set-mae:0.05759\n",
      "[314]\ttrain_set-mae:0.05759\n",
      "[315]\ttrain_set-mae:0.05758\n",
      "[316]\ttrain_set-mae:0.05758\n",
      "[317]\ttrain_set-mae:0.05757\n",
      "[318]\ttrain_set-mae:0.05756\n",
      "[319]\ttrain_set-mae:0.05755\n",
      "[320]\ttrain_set-mae:0.05755\n",
      "[321]\ttrain_set-mae:0.05754\n",
      "[322]\ttrain_set-mae:0.05754\n",
      "[323]\ttrain_set-mae:0.05754\n",
      "[324]\ttrain_set-mae:0.05753\n",
      "[325]\ttrain_set-mae:0.05752\n",
      "[326]\ttrain_set-mae:0.05752\n",
      "[327]\ttrain_set-mae:0.05751\n",
      "[328]\ttrain_set-mae:0.05750\n",
      "[329]\ttrain_set-mae:0.05750\n",
      "[330]\ttrain_set-mae:0.05750\n",
      "[331]\ttrain_set-mae:0.05749\n",
      "[332]\ttrain_set-mae:0.05749\n",
      "[333]\ttrain_set-mae:0.05748\n",
      "[334]\ttrain_set-mae:0.05748\n",
      "[335]\ttrain_set-mae:0.05747\n",
      "[336]\ttrain_set-mae:0.05746\n",
      "[337]\ttrain_set-mae:0.05746\n",
      "[338]\ttrain_set-mae:0.05745\n",
      "[339]\ttrain_set-mae:0.05745\n",
      "[340]\ttrain_set-mae:0.05745\n",
      "[341]\ttrain_set-mae:0.05744\n",
      "[342]\ttrain_set-mae:0.05744\n",
      "[343]\ttrain_set-mae:0.05743\n",
      "[344]\ttrain_set-mae:0.05743\n",
      "[345]\ttrain_set-mae:0.05743\n",
      "[346]\ttrain_set-mae:0.05742\n",
      "[347]\ttrain_set-mae:0.05742\n",
      "[348]\ttrain_set-mae:0.05742\n",
      "[349]\ttrain_set-mae:0.05741\n",
      "[350]\ttrain_set-mae:0.05740\n",
      "[351]\ttrain_set-mae:0.05740\n",
      "[352]\ttrain_set-mae:0.05740\n",
      "[353]\ttrain_set-mae:0.05739\n",
      "[354]\ttrain_set-mae:0.05739\n",
      "[355]\ttrain_set-mae:0.05739\n",
      "[356]\ttrain_set-mae:0.05738\n",
      "[357]\ttrain_set-mae:0.05737\n",
      "[358]\ttrain_set-mae:0.05737\n",
      "[359]\ttrain_set-mae:0.05736\n",
      "[360]\ttrain_set-mae:0.05736\n",
      "[361]\ttrain_set-mae:0.05736\n",
      "[362]\ttrain_set-mae:0.05736\n",
      "[363]\ttrain_set-mae:0.05735\n",
      "[364]\ttrain_set-mae:0.05735\n",
      "[365]\ttrain_set-mae:0.05734\n",
      "[366]\ttrain_set-mae:0.05734\n",
      "[367]\ttrain_set-mae:0.05734\n",
      "[368]\ttrain_set-mae:0.05733\n",
      "[369]\ttrain_set-mae:0.05733\n",
      "[370]\ttrain_set-mae:0.05732\n",
      "[371]\ttrain_set-mae:0.05732\n",
      "[372]\ttrain_set-mae:0.05732\n",
      "[373]\ttrain_set-mae:0.05731\n",
      "[374]\ttrain_set-mae:0.05731\n",
      "[375]\ttrain_set-mae:0.05730\n",
      "[376]\ttrain_set-mae:0.05730\n",
      "[377]\ttrain_set-mae:0.05729\n",
      "[378]\ttrain_set-mae:0.05729\n",
      "[379]\ttrain_set-mae:0.05729\n",
      "[380]\ttrain_set-mae:0.05728\n",
      "[381]\ttrain_set-mae:0.05728\n",
      "[382]\ttrain_set-mae:0.05727\n",
      "[383]\ttrain_set-mae:0.05727\n",
      "[384]\ttrain_set-mae:0.05727\n",
      "[385]\ttrain_set-mae:0.05726\n",
      "[386]\ttrain_set-mae:0.05726\n",
      "[387]\ttrain_set-mae:0.05726\n",
      "[388]\ttrain_set-mae:0.05725\n",
      "[389]\ttrain_set-mae:0.05725\n",
      "[390]\ttrain_set-mae:0.05724\n",
      "[391]\ttrain_set-mae:0.05724\n",
      "[392]\ttrain_set-mae:0.05723\n",
      "[393]\ttrain_set-mae:0.05723\n",
      "[394]\ttrain_set-mae:0.05723\n",
      "[395]\ttrain_set-mae:0.05722\n",
      "[396]\ttrain_set-mae:0.05722\n",
      "[397]\ttrain_set-mae:0.05722\n",
      "[398]\ttrain_set-mae:0.05722\n",
      "[399]\ttrain_set-mae:0.05721\n"
     ]
    }
   ],
   "source": [
    "params = {\n",
    "    \"objective\": \"reg:absoluteerror\",\n",
    "    \"eta\": 0.08,\n",
    "    \"max_depth\": 12,\n",
    "    \"random_state\": 42,\n",
    "    \"gamma\": 0.1,\n",
    "    \"subsample\": 0.6,\n",
    "    \"device\": 'cuda',\n",
    "}\n",
    "num_boost_round = 400\n",
    "\n",
    "dmat = xgb.DMatrix(X_train.drop(columns=[\"date\"]), y_train, enable_categorical=True)\n",
    "# dmat_val = xgb.DMatrix(X_val.drop(columns=[\"date\"]), y_val, enable_categorical=True)\n",
    "# xgb_reg = xgb.train(params, dmat, num_boost_round=num_boost_round,  evals=[(dmat_val, 'val_set'), (dmat, 'train_set')], early_stopping_rounds=10)\n",
    "xgb_reg = xgb.train(params, dmat, num_boost_round=num_boost_round,  evals=[(dmat, 'train_set')], early_stopping_rounds=10)"
   ]
  },
  {
   "cell_type": "code",
   "execution_count": 27,
   "id": "c07ccf92",
   "metadata": {
    "execution": {
     "iopub.execute_input": "2025-02-05T20:14:20.514628Z",
     "iopub.status.busy": "2025-02-05T20:14:20.514342Z",
     "iopub.status.idle": "2025-02-05T20:14:21.091366Z",
     "shell.execute_reply": "2025-02-05T20:14:21.090533Z"
    },
    "papermill": {
     "duration": 0.602517,
     "end_time": "2025-02-05T20:14:21.094017",
     "exception": false,
     "start_time": "2025-02-05T20:14:20.491500",
     "status": "completed"
    },
    "tags": []
   },
   "outputs": [
    {
     "data": {
      "image/png": "[encoded data removed]",
      "text/plain": [
       "<Figure size 800x800 with 1 Axes>"
      ]
     },
     "metadata": {},
     "output_type": "display_data"
    }
   ],
   "source": [
    "def plot_feature_importance_xgboost(xgb_model):\n",
    "    feat_imp = np.array(list(xgb_model.get_score(importance_type='weight').values()))\n",
    "    feat_names = np.array(list(xgb_model.get_score(importance_type='weight').keys()))\n",
    "    sorted_indices = np.argsort(feat_imp)\n",
    "    feat_names = feat_names[sorted_indices]\n",
    "    feat_imp = feat_imp[sorted_indices]\n",
    "    \n",
    "    plt.figure(figsize=(8, 8))\n",
    "    plt.barh(feat_names, feat_imp)\n",
    "    plt.xlabel(\"feature_importance\")\n",
    "    plt.ylabel(\"features\")\n",
    "\n",
    "plot_feature_importance_xgboost(xgb_reg)"
   ]
  },
  {
   "cell_type": "code",
   "execution_count": 28,
   "id": "c32fc2ce",
   "metadata": {
    "execution": {
     "iopub.execute_input": "2025-02-05T20:14:21.145736Z",
     "iopub.status.busy": "2025-02-05T20:14:21.145427Z",
     "iopub.status.idle": "2025-02-05T20:14:21.804265Z",
     "shell.execute_reply": "2025-02-05T20:14:21.803534Z"
    },
    "papermill": {
     "duration": 0.686309,
     "end_time": "2025-02-05T20:14:21.805731",
     "exception": false,
     "start_time": "2025-02-05T20:14:21.119422",
     "status": "completed"
    },
    "tags": []
   },
   "outputs": [],
   "source": [
    "dmat = xgb.DMatrix(X_test.drop(columns=[\"date\"]), enable_categorical=True)\n",
    "test_pred = xgb_reg.predict(dmat)\n",
    "\n",
    "#undoing target transformation\n",
    "test_pred = test_pred**8\n",
    "\n",
    "# prediction processing\n",
    "unique_id = X_test[\"unique_id\"].astype('string')\n",
    "date = X_test[\"date\"].astype('string')\n",
    "test_id = unique_id + \"_\" +  date\n",
    "\n",
    "df_sub = pd.DataFrame({\n",
    "    \"id\": test_id,\n",
    "    \"sales_hat\": test_pred.astype(\"int64\")\n",
    "})\n",
    "\n",
    "df_sub.to_csv(\"submission.csv\", index=False)"
   ]
  },
  {
   "cell_type": "code",
   "execution_count": null,
   "id": "14cdade3",
   "metadata": {
    "papermill": {
     "duration": 0.024941,
     "end_time": "2025-02-05T20:14:21.855973",
     "exception": false,
     "start_time": "2025-02-05T20:14:21.831032",
     "status": "completed"
    },
    "tags": []
   },
   "outputs": [],
   "source": []
  }
 ],
 "metadata": {
  "kaggle": {
   "accelerator": "gpu",
   "dataSources": [
    {
     "databundleVersionId": 10173359,
     "sourceId": 88742,
     "sourceType": "competition"
    },
    {
     "datasetId": 6395273,
     "sourceId": 10378431,
     "sourceType": "datasetVersion"
    }
   ],
   "dockerImageVersionId": 30839,
   "isGpuEnabled": true,
   "isInternetEnabled": true,
   "language": "python",
   "sourceType": "notebook"
  },
  "kernelspec": {
   "display_name": "Python 3",
   "language": "python",
   "name": "python3"
  },
  "language_info": {
   "codemirror_mode": {
    "name": "ipython",
    "version": 3
   },
   "file_extension": ".py",
   "mimetype": "text/x-python",
   "name": "python",
   "nbconvert_exporter": "python",
   "pygments_lexer": "ipython3",
   "version": "3.10.12"
  },
  "papermill": {
   "default_parameters": {},
   "duration": 231.204115,
   "end_time": "2025-02-05T20:14:22.499411",
   "environment_variables": {},
   "exception": null,
   "input_path": "__notebook__.ipynb",
   "output_path": "__notebook__.ipynb",
   "parameters": {},
   "start_time": "2025-02-05T20:10:31.295296",
   "version": "2.6.0"
  }
 },
 "nbformat": 4,
 "nbformat_minor": 5
}
